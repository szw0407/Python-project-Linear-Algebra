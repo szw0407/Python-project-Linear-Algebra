{
 "cells": [
  {
   "cell_type": "code",
   "execution_count": 95,
   "metadata": {},
   "outputs": [],
   "source": [
    "from main import Matrix, RowVector, ColumnVector"
   ]
  },
  {
   "cell_type": "markdown",
   "metadata": {},
   "source": [
    "接下来是思考题，高斯消元法。\n",
    "\n",
    "首先我们需要读取矩阵。\n",
    "\n",
    "文件里面的方程大概长这样：\n",
    "\n",
    "```\n",
    "x+10y-12z=0\n",
    "12x+18z=121\n",
    "-x+18.3y-21.4z=-99.5\n",
    "```\n",
    "\n",
    "我们需要把它转化成矩阵的形式：\n",
    "\n",
    "```\n",
    "1 10 -12 0\n",
    "12 0 18 121\n",
    "-1 18.3 -21.4 -99.5\n",
    "```\n",
    "\n",
    "并且这只是一个示例，实际上变量不一定是x,y,z，方程的个数也不一定是3个。变量可能是`var_1`或者`VarOne`，只要是 Python 里面能合法成为变量名的都可以。\n",
    "\n",
    "那么我们怎么提取这些系数呢？\n",
    "\n",
    "我们可以观察到，每个方程等号右侧都是数字，左侧每个加号或者减号的右侧都是数字——如果不是的话就补1。此外，开头如果不是减号，就补加号。\n"
   ]
  },
  {
   "cell_type": "code",
   "execution_count": 96,
   "metadata": {},
   "outputs": [
    {
     "name": "stdout",
     "output_type": "stream",
     "text": [
      "{'x': 1, 'y': 10, 'z': -12}\n",
      "{'x': 12, 'z': 18}\n",
      "{'x': -1, 'y': 18.3, 'z': -21.4}\n"
     ]
    }
   ],
   "source": [
    "from typing import Literal\n",
    "\n",
    "\n",
    "with open('equations.txt', 'r', encoding='utf-8') as f:\n",
    "    equations = []\n",
    "    vals = []\n",
    "    for i in f:\n",
    "        if not i.startswith('-'):\n",
    "            i=f\"+{i}\"\n",
    "        var = ''\n",
    "        eq = {}\n",
    "        for _ in range(len(i)):\n",
    "            j=i[_]\n",
    "            \n",
    "            if j in ('+', '-'):\n",
    "                # add this into equations\n",
    "                if var:\n",
    "                    eq[var] = eval(opr + num) if num else eval(f'{opr}1')  # type: ignore\n",
    "                num = ''\n",
    "                var = ''\n",
    "                in_var = False\n",
    "                opr: Literal['+', '-'] = j\n",
    "            \n",
    "            elif j == '=':\n",
    "                vals.append(eval(i[_+1:]))\n",
    "                eq[var] = eval(opr + num) if num else eval(f'{opr}1')  # type: ignore\n",
    "                print(eq)\n",
    "                equations.append(eq.copy())\n",
    "                break\n",
    "            elif in_var:  # type: ignore\n",
    "                var += j\n",
    "            elif j in ('0', '1', '2', '3', '4', '5', '6', '7', '8', '9', '.'):\n",
    "                num += j  # type: ignore\n",
    "            else:\n",
    "                in_var = True\n",
    "                var += j"
   ]
  },
  {
   "cell_type": "code",
   "execution_count": 97,
   "metadata": {},
   "outputs": [
    {
     "name": "stdout",
     "output_type": "stream",
     "text": [
      "[{'x': 1, 'y': 10, 'z': -12}, {'x': 12, 'z': 18}, {'x': -1, 'y': 18.3, 'z': -21.4}]\n",
      "[0, 121, -99.5]\n"
     ]
    }
   ],
   "source": [
    "# test\n",
    "print(equations)\n",
    "print(vals)"
   ]
  },
  {
   "cell_type": "markdown",
   "metadata": {},
   "source": [
    "如此，我们已经能把方程读取出来了，现在转化为矩阵。\n",
    "\n",
    "注意到，equations里面的每个元素都是一个字典，字典的键是变量名，值是系数。我们求每个字典的键的并集，就是所有的变量名。然后我们把每个方程的系数按照变量名的顺序排列，就得到了矩阵。\n",
    "\n",
    "然后给这个矩阵右侧加上一列，就是等号右侧的数字。这就是所求的增广矩阵。"
   ]
  },
  {
   "cell_type": "code",
   "execution_count": 98,
   "metadata": {},
   "outputs": [
    {
     "name": "stdout",
     "output_type": "stream",
     "text": [
      "1\t10\t-12\t0\n",
      "12\t0\t18\t121\n",
      "-1\t18.3\t-21.4\t-99.5\n"
     ]
    }
   ],
   "source": [
    "keys_set = set()\n",
    "for i in equations:\n",
    "    keys_set.update(i.keys())\n",
    "keys = sorted(keys_set)\n",
    "m=Matrix(*(RowVector(*(eq.get(k, 0) for k in keys)) for eq in equations))\n",
    "m.insert_column(column=ColumnVector(*vals), index=len(keys))\n",
    "print(m)"
   ]
  },
  {
   "cell_type": "markdown",
   "metadata": {},
   "source": [
    "矩阵已经有了，接下来我们需要进行高斯消元。"
   ]
  },
  {
   "cell_type": "code",
   "execution_count": 99,
   "metadata": {},
   "outputs": [
    {
     "name": "stdout",
     "output_type": "stream",
     "text": [
      "1.0\t0.0\t0.0\t32.236559139784916\n",
      "0.0\t1.0\t0.0\t-20.94623655913976\n",
      "0.0\t0.0\t1.0\t-14.768817204301055\n"
     ]
    }
   ],
   "source": [
    "def GaussJordanElimination(m: Matrix):\n",
    "    for i in range(m.count_rows()):\n",
    "        # make the diagonal element 1\n",
    "        pivot = m(i, i)\n",
    "        for j in range(m.count_columns()):\n",
    "            m[j+i*m.count_columns()] /= pivot\n",
    "        for j in range(m.count_rows()):\n",
    "            if i == j:\n",
    "                continue\n",
    "            # make the elements in column i 0 except the diagonal element\n",
    "            factor = m(row=j, column=i)\n",
    "            for k in range(m.count_columns()):\n",
    "                m[k+j*m.count_columns()] -= factor * m[k+i*m.count_columns()]\n",
    "    return m\n",
    "res = GaussJordanElimination(m.copy())\n",
    "print(res)\n"
   ]
  },
  {
   "cell_type": "markdown",
   "metadata": {},
   "source": [
    "这样我们就完成了高斯消元法的实现。\n",
    "\n",
    "下面我们还需要将矩阵转化为方程组的形式，输出$\\LaTeX$代码。"
   ]
  },
  {
   "cell_type": "code",
   "execution_count": 100,
   "metadata": {},
   "outputs": [
    {
     "name": "stdout",
     "output_type": "stream",
     "text": [
      "\\begin{align}\n",
      "-x +10y -12z &= 0 \\\\\n",
      "-12x +18z &= 121 \\\\\n",
      "-x +18.3y -21.4z &= -99.5 \\\\\n",
      "\\end{align}\n",
      "\\\\\n",
      "\\text{Solutions: }\\\\\n",
      "\\begin{align}\n",
      "-x &= 32.236559139784916 \\\\\n",
      "-y &= -20.94623655913976 \\\\\n",
      "-z &= -14.768817204301055 \\\\\n",
      "\\end{align}\n"
     ]
    }
   ],
   "source": [
    "from typing import Sequence\n",
    "\n",
    "\n",
    "def out_latex(m: Matrix, var_names: list[str]):\n",
    "    if m.count_columns() != len(var_names) + 1:\n",
    "        raise ValueError('The number of columns in the matrix should be equal to the number of variables + 1')\n",
    "    print('\\\\begin{align}')\n",
    "    for i in range(m.count_rows()):\n",
    "        out = ''\n",
    "        for j in range(m.count_columns()):\n",
    "            num = m(column=j, row=i)\n",
    "            if j == m.count_columns() - 1:\n",
    "                out += f'&= {str(m(column=m.count_columns() - 1, row=i))} \\\\\\\\'\n",
    "                print(out)\n",
    "                break\n",
    "            if num == 0:\n",
    "                continue\n",
    "            elif isinstance(num, complex):\n",
    "                out += f\"+({num}) {var_names[j]}\"\n",
    "            elif num > 0 and out:\n",
    "                out += '+'\n",
    "            else:\n",
    "                out += '-'\n",
    "            out += var_names[j] if abs(num) == 1 else str(abs(num)) + var_names[j]\n",
    "            out += \" \"\n",
    "    print('\\\\end{align}')\n",
    "\n",
    "out_latex(m, keys)\n",
    "print('\\\\\\\\\\n\\\\text{Solutions: }\\\\\\\\')\n",
    "out_latex(res, keys)"
   ]
  },
  {
   "cell_type": "markdown",
   "metadata": {},
   "source": [
    "解析成：\n",
    "\n",
    "$$\n",
    "\\begin{align}\n",
    "x +10y -12z &= 0 \\\\\n",
    "12x +18z &= 121 \\\\\n",
    "-x +18.3y -21.4z &= -99.5 \\\\\n",
    "\\end{align}\n",
    "\\\\\n",
    "\\text{Solutions: }\\\\\n",
    "\\begin{align}\n",
    "x &= 32.236559139784916 \\\\\n",
    "y &= -20.94623655913976 \\\\\n",
    "z &= -14.768817204301055 \\\\\n",
    "\\end{align}\n",
    "$$\n",
    "\n",
    "这样就完成了。"
   ]
  }
 ],
 "metadata": {
  "kernelspec": {
   "display_name": "min-jupyter-python3.12",
   "language": "python",
   "name": "python3"
  },
  "language_info": {
   "codemirror_mode": {
    "name": "ipython",
    "version": 3
   },
   "file_extension": ".py",
   "mimetype": "text/x-python",
   "name": "python",
   "nbconvert_exporter": "python",
   "pygments_lexer": "ipython3",
   "version": "3.12.1"
  }
 },
 "nbformat": 4,
 "nbformat_minor": 2
}
